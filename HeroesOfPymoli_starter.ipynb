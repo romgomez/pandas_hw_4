{
 "cells": [
  {
   "cell_type": "markdown",
   "metadata": {},
   "source": [
    "### Heroes Of Pymoli Data Analysis\n",
    "* Of the 1163 active players, the vast majority are male (84%). There also exists, a smaller, but notable proportion of female players (14%).\n",
    "\n",
    "* Our peak age demographic falls between 20-24 (44.8%) with secondary groups falling between 15-19 (18.60%) and 25-29 (13.4%).  \n",
    "-----"
   ]
  },
  {
   "cell_type": "markdown",
   "metadata": {},
   "source": [
    "### Note\n",
    "* Instructions have been included for each segment. You do not have to follow them exactly, but they are included to help you think through the steps."
   ]
  },
  {
   "cell_type": "code",
   "execution_count": 4,
   "metadata": {},
   "outputs": [],
   "source": [
    "# Dependencies and Setup\n",
    "import pandas as pd\n",
    "import numpy as np\n",
    "\n",
    "# Raw data file\n",
    "file_to_load = \"Resources/purchase_data.csv\"\n",
    "\n",
    "# Read purchasing file and store into pandas data frame\n",
    "purchase_data = pd.read_csv(file_to_load)"
   ]
  },
  {
   "cell_type": "markdown",
   "metadata": {},
   "source": [
    "## Player Count"
   ]
  },
  {
   "cell_type": "markdown",
   "metadata": {},
   "source": [
    "* Display the total number of players\n"
   ]
  },
  {
   "cell_type": "code",
   "execution_count": 5,
   "metadata": {},
   "outputs": [
    {
     "data": {
      "text/plain": [
       "Index(['Purchase ID', 'SN', 'Age', 'Gender', 'Item ID', 'Item Name', 'Price'], dtype='object')"
      ]
     },
     "execution_count": 5,
     "metadata": {},
     "output_type": "execute_result"
    }
   ],
   "source": [
    "#Print the columns in the dataset so that I know which are available \n",
    "purchase_data.columns"
   ]
  },
  {
   "cell_type": "code",
   "execution_count": 6,
   "metadata": {},
   "outputs": [
    {
     "data": {
      "text/html": [
       "<div>\n",
       "<style scoped>\n",
       "    .dataframe tbody tr th:only-of-type {\n",
       "        vertical-align: middle;\n",
       "    }\n",
       "\n",
       "    .dataframe tbody tr th {\n",
       "        vertical-align: top;\n",
       "    }\n",
       "\n",
       "    .dataframe thead th {\n",
       "        text-align: right;\n",
       "    }\n",
       "</style>\n",
       "<table border=\"1\" class=\"dataframe\">\n",
       "  <thead>\n",
       "    <tr style=\"text-align: right;\">\n",
       "      <th></th>\n",
       "      <th>Total Players</th>\n",
       "    </tr>\n",
       "  </thead>\n",
       "  <tbody>\n",
       "    <tr>\n",
       "      <th>0</th>\n",
       "      <td>576</td>\n",
       "    </tr>\n",
       "  </tbody>\n",
       "</table>\n",
       "</div>"
      ],
      "text/plain": [
       "   Total Players\n",
       "0            576"
      ]
     },
     "execution_count": 6,
     "metadata": {},
     "output_type": "execute_result"
    }
   ],
   "source": [
    "#Count the total number of players in the purchase data\n",
    "total_players_df = len(purchase_data[\"SN\"].value_counts())\n",
    "total_players_df\n",
    "\n",
    "#Display the count of players in dataframe\n",
    "player_count = pd.DataFrame({\"Total Players\":[total_players_df]})\n",
    "player_count"
   ]
  },
  {
   "cell_type": "markdown",
   "metadata": {},
   "source": [
    "# Purchasing Analysis (Total)"
   ]
  },
  {
   "cell_type": "markdown",
   "metadata": {},
   "source": [
    "* Run basic calculations to obtain number of unique items, average price, etc.\n",
    "\n",
    "\n",
    "* Create a summary data frame to hold the results\n",
    "\n",
    "\n",
    "* Optional: give the displayed data cleaner formatting\n",
    "\n",
    "\n",
    "* Display the summary data frame\n"
   ]
  },
  {
   "cell_type": "code",
   "execution_count": 7,
   "metadata": {
    "scrolled": true
   },
   "outputs": [],
   "source": [
    "#Find the numbr of unique items, average purchase price, total number of purcahses, and total revenue from all purcahses.\n",
    "unique_items = len(purchase_data[\"SN\"].unique())\n",
    "average_price = (purchase_data[\"Price\"]).mean()\n",
    "purchases = (purchase_data[\"Purchase ID\"]).count()\n",
    "total_revenue = (purchase_data[\"Price\"]).sum()\n"
   ]
  },
  {
   "cell_type": "code",
   "execution_count": 8,
   "metadata": {},
   "outputs": [
    {
     "data": {
      "text/html": [
       "<style  type=\"text/css\" >\n",
       "</style>  \n",
       "<table id=\"T_056def12_302f_11e9_99c9_542696d54037\" > \n",
       "<thead>    <tr> \n",
       "        <th class=\"blank level0\" ></th> \n",
       "        <th class=\"col_heading level0 col0\" >Number of Unique Items</th> \n",
       "        <th class=\"col_heading level0 col1\" >Average Price</th> \n",
       "        <th class=\"col_heading level0 col2\" >Number of Purchases</th> \n",
       "        <th class=\"col_heading level0 col3\" >Total Revenue</th> \n",
       "    </tr></thead> \n",
       "<tbody>    <tr> \n",
       "        <th id=\"T_056def12_302f_11e9_99c9_542696d54037level0_row0\" class=\"row_heading level0 row0\" >0</th> \n",
       "        <td id=\"T_056def12_302f_11e9_99c9_542696d54037row0_col0\" class=\"data row0 col0\" >576</td> \n",
       "        <td id=\"T_056def12_302f_11e9_99c9_542696d54037row0_col1\" class=\"data row0 col1\" >$3.05</td> \n",
       "        <td id=\"T_056def12_302f_11e9_99c9_542696d54037row0_col2\" class=\"data row0 col2\" >780</td> \n",
       "        <td id=\"T_056def12_302f_11e9_99c9_542696d54037row0_col3\" class=\"data row0 col3\" >$2,379.77</td> \n",
       "    </tr></tbody> \n",
       "</table> "
      ],
      "text/plain": [
       "<pandas.io.formats.style.Styler at 0x1189996a0>"
      ]
     },
     "execution_count": 8,
     "metadata": {},
     "output_type": "execute_result"
    }
   ],
   "source": [
    "# Summarize the  stats in a dataframe\n",
    "summary_df = pd.DataFrame({\"Number of Unique Items\":[unique_items],\n",
    "                           \"Average Price\":[average_price], \n",
    "                           \"Number of Purchases\": [purchases], \n",
    "                           \"Total Revenue\": [total_revenue]})\n",
    "\n",
    "#Format the columns with dollars \n",
    "summary_df.style.format({\"Average Price\":\"${:,.2f}\",\n",
    "                         \"Total Revenue\": \"${:,.2f}\"})\n"
   ]
  },
  {
   "cell_type": "markdown",
   "metadata": {},
   "source": [
    "## Gender Demographics"
   ]
  },
  {
   "cell_type": "markdown",
   "metadata": {},
   "source": [
    "* Run basic calculations to obtain number of unique items, average price, etc.\n",
    "\n",
    "\n",
    "* Create a summary data frame to hold the results\n",
    "\n",
    "\n",
    "* Optional: give the displayed data cleaner formatting\n",
    "\n",
    "\n",
    "* Display the summary data frame\n"
   ]
  },
  {
   "cell_type": "code",
   "execution_count": 14,
   "metadata": {},
   "outputs": [
    {
     "data": {
      "text/html": [
       "<style  type=\"text/css\" >\n",
       "</style>  \n",
       "<table id=\"T_c9acb3c2_302f_11e9_99c9_542696d54037\" > \n",
       "<thead>    <tr> \n",
       "        <th class=\"blank level0\" ></th> \n",
       "        <th class=\"col_heading level0 col0\" >Percentage of Players</th> \n",
       "        <th class=\"col_heading level0 col1\" >Total Count</th> \n",
       "    </tr>    <tr> \n",
       "        <th class=\"index_name level0\" >Gender</th> \n",
       "        <th class=\"blank\" ></th> \n",
       "        <th class=\"blank\" ></th> \n",
       "    </tr></thead> \n",
       "<tbody>    <tr> \n",
       "        <th id=\"T_c9acb3c2_302f_11e9_99c9_542696d54037level0_row0\" class=\"row_heading level0 row0\" >Female</th> \n",
       "        <td id=\"T_c9acb3c2_302f_11e9_99c9_542696d54037row0_col0\" class=\"data row0 col0\" >14.1</td> \n",
       "        <td id=\"T_c9acb3c2_302f_11e9_99c9_542696d54037row0_col1\" class=\"data row0 col1\" >576</td> \n",
       "    </tr>    <tr> \n",
       "        <th id=\"T_c9acb3c2_302f_11e9_99c9_542696d54037level0_row1\" class=\"row_heading level0 row1\" >Male</th> \n",
       "        <td id=\"T_c9acb3c2_302f_11e9_99c9_542696d54037row1_col0\" class=\"data row1 col0\" >84.0</td> \n",
       "        <td id=\"T_c9acb3c2_302f_11e9_99c9_542696d54037row1_col1\" class=\"data row1 col1\" >576</td> \n",
       "    </tr>    <tr> \n",
       "        <th id=\"T_c9acb3c2_302f_11e9_99c9_542696d54037level0_row2\" class=\"row_heading level0 row2\" >Other / Non-Disclosed</th> \n",
       "        <td id=\"T_c9acb3c2_302f_11e9_99c9_542696d54037row2_col0\" class=\"data row2 col0\" >1.9</td> \n",
       "        <td id=\"T_c9acb3c2_302f_11e9_99c9_542696d54037row2_col1\" class=\"data row2 col1\" >576</td> \n",
       "    </tr></tbody> \n",
       "</table> "
      ],
      "text/plain": [
       "<pandas.io.formats.style.Styler at 0x11991a9b0>"
      ]
     },
     "execution_count": 14,
     "metadata": {},
     "output_type": "execute_result"
    }
   ],
   "source": [
    "# Create a groupby object for gender\n",
    "gender_df = purchase_data.groupby(\"Gender\")\n",
    "\n",
    "# Bucketize/count the number of unique players by gender\n",
    "gender_total = gender_df.nunique()[\"SN\"]\n",
    "\n",
    "# Find percent of players of each gender\n",
    "percent_players = gender_total / total_players_df *100\n",
    "\n",
    "# Generate dataframe for the stats above\n",
    "gender_demo_df = pd.DataFrame({\"Percentage of Players\": percent_players,\n",
    "                                \"Total Count\": total_players_df})\n",
    "\n",
    "# Format the percentage of players to a meaningful decimal place\n",
    "gender_demo_df.style.format({\"Percentage of Players\":\"{:.1f}\"})"
   ]
  },
  {
   "cell_type": "markdown",
   "metadata": {},
   "source": [
    "\n",
    "## Purchasing Analysis (Gender)"
   ]
  },
  {
   "cell_type": "markdown",
   "metadata": {},
   "source": [
    "* Run basic calculations to obtain purchase count, avg. purchase price, etc. by gender\n",
    "\n",
    "\n",
    "* For normalized purchasing, divide total purchase value by purchase count, by gender\n",
    "\n",
    "\n",
    "* Create a summary data frame to hold the results\n",
    "\n",
    "\n",
    "* Optional: give the displayed data cleaner formatting\n",
    "\n",
    "\n",
    "* Display the summary data frame"
   ]
  },
  {
   "cell_type": "code",
   "execution_count": 15,
   "metadata": {},
   "outputs": [
    {
     "data": {
      "text/html": [
       "<style  type=\"text/css\" >\n",
       "</style>  \n",
       "<table id=\"T_ccc79946_302f_11e9_99c9_542696d54037\" > \n",
       "<thead>    <tr> \n",
       "        <th class=\"blank level0\" ></th> \n",
       "        <th class=\"col_heading level0 col0\" >Purchase Count</th> \n",
       "        <th class=\"col_heading level0 col1\" >Average Purchase Price</th> \n",
       "        <th class=\"col_heading level0 col2\" >Total Purchase Value</th> \n",
       "        <th class=\"col_heading level0 col3\" >Average Total Purchase Per Person</th> \n",
       "    </tr>    <tr> \n",
       "        <th class=\"index_name level0\" >Gender</th> \n",
       "        <th class=\"blank\" ></th> \n",
       "        <th class=\"blank\" ></th> \n",
       "        <th class=\"blank\" ></th> \n",
       "        <th class=\"blank\" ></th> \n",
       "    </tr></thead> \n",
       "<tbody>    <tr> \n",
       "        <th id=\"T_ccc79946_302f_11e9_99c9_542696d54037level0_row0\" class=\"row_heading level0 row0\" >Female</th> \n",
       "        <td id=\"T_ccc79946_302f_11e9_99c9_542696d54037row0_col0\" class=\"data row0 col0\" >113</td> \n",
       "        <td id=\"T_ccc79946_302f_11e9_99c9_542696d54037row0_col1\" class=\"data row0 col1\" >$3.20</td> \n",
       "        <td id=\"T_ccc79946_302f_11e9_99c9_542696d54037row0_col2\" class=\"data row0 col2\" >$361.94</td> \n",
       "        <td id=\"T_ccc79946_302f_11e9_99c9_542696d54037row0_col3\" class=\"data row0 col3\" >$4.47</td> \n",
       "    </tr>    <tr> \n",
       "        <th id=\"T_ccc79946_302f_11e9_99c9_542696d54037level0_row1\" class=\"row_heading level0 row1\" >Male</th> \n",
       "        <td id=\"T_ccc79946_302f_11e9_99c9_542696d54037row1_col0\" class=\"data row1 col0\" >652</td> \n",
       "        <td id=\"T_ccc79946_302f_11e9_99c9_542696d54037row1_col1\" class=\"data row1 col1\" >$3.02</td> \n",
       "        <td id=\"T_ccc79946_302f_11e9_99c9_542696d54037row1_col2\" class=\"data row1 col2\" >$1967.64</td> \n",
       "        <td id=\"T_ccc79946_302f_11e9_99c9_542696d54037row1_col3\" class=\"data row1 col3\" >$4.07</td> \n",
       "    </tr>    <tr> \n",
       "        <th id=\"T_ccc79946_302f_11e9_99c9_542696d54037level0_row2\" class=\"row_heading level0 row2\" >Other / Non-Disclosed</th> \n",
       "        <td id=\"T_ccc79946_302f_11e9_99c9_542696d54037row2_col0\" class=\"data row2 col0\" >15</td> \n",
       "        <td id=\"T_ccc79946_302f_11e9_99c9_542696d54037row2_col1\" class=\"data row2 col1\" >$3.35</td> \n",
       "        <td id=\"T_ccc79946_302f_11e9_99c9_542696d54037row2_col2\" class=\"data row2 col2\" >$50.19</td> \n",
       "        <td id=\"T_ccc79946_302f_11e9_99c9_542696d54037row2_col3\" class=\"data row2 col3\" >$4.56</td> \n",
       "    </tr></tbody> \n",
       "</table> "
      ],
      "text/plain": [
       "<pandas.io.formats.style.Styler at 0x119b45ba8>"
      ]
     },
     "execution_count": 15,
     "metadata": {},
     "output_type": "execute_result"
    }
   ],
   "source": [
    "# Count of purchases by gender \n",
    "purchase_count = gender_df[\"Purchase ID\"].count()\n",
    "\n",
    "# Total purchase value by gender\n",
    "total_purchase_value = gender_df[\"Price\"].sum()\n",
    "\n",
    "# Average purcahse price by gender\n",
    "average_price = gender_df[\"Price\"].mean()\n",
    "\n",
    "# Average total purchase per person\n",
    "avg_tppp = total_purchase_value / gender_total\n",
    "\n",
    "# Present the stats in a dataframe \n",
    "gender_pa = pd.DataFrame({\"Purchase Count\": purchase_count,\n",
    "                          \"Average Purchase Price\": average_price,\n",
    "                          \"Total Purchase Value\": total_purchase_value,\n",
    "                          \"Average Total Purchase Per Person\": avg_tppp})\n",
    "\n",
    "# Format the columns with dollars \n",
    "gender_pa.style.format({\"Average Purchase Price\":\"${:.2f}\",\n",
    "                        \"Total Purchase Value\":\"${:.2f}\",\n",
    "                        \"Average Total Purchase Per Person\":\"${:.2f}\"})"
   ]
  },
  {
   "cell_type": "code",
   "execution_count": null,
   "metadata": {},
   "outputs": [],
   "source": []
  },
  {
   "cell_type": "markdown",
   "metadata": {},
   "source": [
    "## Age Demographics"
   ]
  },
  {
   "cell_type": "markdown",
   "metadata": {},
   "source": [
    "* Establish bins for ages\n",
    "\n",
    "\n",
    "* Categorize the existing players using the age bins. Hint: use pd.cut()\n",
    "\n",
    "\n",
    "* Calculate the numbers and percentages by age group\n",
    "\n",
    "\n",
    "* Create a summary data frame to hold the results\n",
    "\n",
    "\n",
    "* Optional: round the percentage column to two decimal points\n",
    "\n",
    "\n",
    "* Display Age Demographics Table\n"
   ]
  },
  {
   "cell_type": "code",
   "execution_count": 16,
   "metadata": {},
   "outputs": [
    {
     "data": {
      "text/html": [
       "<style  type=\"text/css\" >\n",
       "</style>  \n",
       "<table id=\"T_d2908022_302f_11e9_99c9_542696d54037\" > \n",
       "<thead>    <tr> \n",
       "        <th class=\"blank level0\" ></th> \n",
       "        <th class=\"col_heading level0 col0\" >Percentage of Players</th> \n",
       "        <th class=\"col_heading level0 col1\" >Total Count</th> \n",
       "    </tr>    <tr> \n",
       "        <th class=\"index_name level0\" >Age Bracket</th> \n",
       "        <th class=\"blank\" ></th> \n",
       "        <th class=\"blank\" ></th> \n",
       "    </tr></thead> \n",
       "<tbody>    <tr> \n",
       "        <th id=\"T_d2908022_302f_11e9_99c9_542696d54037level0_row0\" class=\"row_heading level0 row0\" ><10</th> \n",
       "        <td id=\"T_d2908022_302f_11e9_99c9_542696d54037row0_col0\" class=\"data row0 col0\" >3.0%</td> \n",
       "        <td id=\"T_d2908022_302f_11e9_99c9_542696d54037row0_col1\" class=\"data row0 col1\" >17</td> \n",
       "    </tr>    <tr> \n",
       "        <th id=\"T_d2908022_302f_11e9_99c9_542696d54037level0_row1\" class=\"row_heading level0 row1\" >10-14</th> \n",
       "        <td id=\"T_d2908022_302f_11e9_99c9_542696d54037row1_col0\" class=\"data row1 col0\" >3.8%</td> \n",
       "        <td id=\"T_d2908022_302f_11e9_99c9_542696d54037row1_col1\" class=\"data row1 col1\" >22</td> \n",
       "    </tr>    <tr> \n",
       "        <th id=\"T_d2908022_302f_11e9_99c9_542696d54037level0_row2\" class=\"row_heading level0 row2\" >15-19</th> \n",
       "        <td id=\"T_d2908022_302f_11e9_99c9_542696d54037row2_col0\" class=\"data row2 col0\" >18.6%</td> \n",
       "        <td id=\"T_d2908022_302f_11e9_99c9_542696d54037row2_col1\" class=\"data row2 col1\" >107</td> \n",
       "    </tr>    <tr> \n",
       "        <th id=\"T_d2908022_302f_11e9_99c9_542696d54037level0_row3\" class=\"row_heading level0 row3\" >20-24</th> \n",
       "        <td id=\"T_d2908022_302f_11e9_99c9_542696d54037row3_col0\" class=\"data row3 col0\" >44.8%</td> \n",
       "        <td id=\"T_d2908022_302f_11e9_99c9_542696d54037row3_col1\" class=\"data row3 col1\" >258</td> \n",
       "    </tr>    <tr> \n",
       "        <th id=\"T_d2908022_302f_11e9_99c9_542696d54037level0_row4\" class=\"row_heading level0 row4\" >25-29</th> \n",
       "        <td id=\"T_d2908022_302f_11e9_99c9_542696d54037row4_col0\" class=\"data row4 col0\" >13.4%</td> \n",
       "        <td id=\"T_d2908022_302f_11e9_99c9_542696d54037row4_col1\" class=\"data row4 col1\" >77</td> \n",
       "    </tr>    <tr> \n",
       "        <th id=\"T_d2908022_302f_11e9_99c9_542696d54037level0_row5\" class=\"row_heading level0 row5\" >30-34</th> \n",
       "        <td id=\"T_d2908022_302f_11e9_99c9_542696d54037row5_col0\" class=\"data row5 col0\" >9.0%</td> \n",
       "        <td id=\"T_d2908022_302f_11e9_99c9_542696d54037row5_col1\" class=\"data row5 col1\" >52</td> \n",
       "    </tr>    <tr> \n",
       "        <th id=\"T_d2908022_302f_11e9_99c9_542696d54037level0_row6\" class=\"row_heading level0 row6\" >35-39</th> \n",
       "        <td id=\"T_d2908022_302f_11e9_99c9_542696d54037row6_col0\" class=\"data row6 col0\" >5.4%</td> \n",
       "        <td id=\"T_d2908022_302f_11e9_99c9_542696d54037row6_col1\" class=\"data row6 col1\" >31</td> \n",
       "    </tr>    <tr> \n",
       "        <th id=\"T_d2908022_302f_11e9_99c9_542696d54037level0_row7\" class=\"row_heading level0 row7\" >40+</th> \n",
       "        <td id=\"T_d2908022_302f_11e9_99c9_542696d54037row7_col0\" class=\"data row7 col0\" >2.1%</td> \n",
       "        <td id=\"T_d2908022_302f_11e9_99c9_542696d54037row7_col1\" class=\"data row7 col1\" >12</td> \n",
       "    </tr></tbody> \n",
       "</table> "
      ],
      "text/plain": [
       "<pandas.io.formats.style.Styler at 0x1198932b0>"
      ]
     },
     "execution_count": 16,
     "metadata": {},
     "output_type": "execute_result"
    }
   ],
   "source": [
    "# Establish bins for ages\n",
    "age_bins = [0, 9.90, 14.90, 19.90, 24.90, 29.90, 34.90, 39.90, 99999]\n",
    "group_names = [\"<10\", \"10-14\", \"15-19\", \"20-24\", \"25-29\", \"30-34\", \"35-39\", \"40+\"]\n",
    "\n",
    "\n",
    "# Create column in data frame for age brackets using age bins \n",
    "purchase_data[\"Age Bracket\"] = pd.cut(purchase_data[\"Age\"],age_bins, labels=group_names)\n",
    "purchase_data\n",
    "\n",
    "# Create a gorupby object using the age bins \n",
    "age_bracket = purchase_data.groupby(\"Age Bracket\")\n",
    "\n",
    "# Count the number of playes in each age bracket \n",
    "age_count = age_bracket[\"SN\"].nunique()\n",
    "\n",
    "# Get percentage of players in each age bracket\n",
    "age_percent = (age_count/total_players_df *100)\n",
    "\n",
    "\n",
    "# Print dataframe showing the age demographics for players\n",
    "age_demographics = pd.DataFrame({\"Percentage of Players\": age_percent,\n",
    "                                \"Total Count\": age_count})\n",
    "\n",
    "age_demographics.style.format({\"Percentage of Players\": \"{:.1f}%\"})\n"
   ]
  },
  {
   "cell_type": "code",
   "execution_count": null,
   "metadata": {},
   "outputs": [],
   "source": [
    "\n"
   ]
  },
  {
   "cell_type": "markdown",
   "metadata": {},
   "source": [
    "## Purchasing Analysis (Age)"
   ]
  },
  {
   "cell_type": "markdown",
   "metadata": {},
   "source": [
    "* Bin the purchase_data data frame by age\n",
    "\n",
    "\n",
    "* Run basic calculations to obtain purchase count, avg. purchase price, etc. in the table below\n",
    "\n",
    "\n",
    "* Calculate Normalized Purchasing\n",
    "\n",
    "\n",
    "* Create a summary data frame to hold the results\n",
    "\n",
    "\n",
    "* Optional: give the displayed data cleaner formatting\n",
    "\n",
    "\n",
    "* Display the summary data frame"
   ]
  },
  {
   "cell_type": "code",
   "execution_count": 19,
   "metadata": {},
   "outputs": [
    {
     "data": {
      "text/html": [
       "<style  type=\"text/css\" >\n",
       "</style>  \n",
       "<table id=\"T_5160b16a_3030_11e9_99c9_542696d54037\" > \n",
       "<thead>    <tr> \n",
       "        <th class=\"blank level0\" ></th> \n",
       "        <th class=\"col_heading level0 col0\" >Purchase Count</th> \n",
       "        <th class=\"col_heading level0 col1\" >Average Purchase Price</th> \n",
       "        <th class=\"col_heading level0 col2\" >Total Purchase Value</th> \n",
       "        <th class=\"col_heading level0 col3\" >Average Total Purchase Per Person</th> \n",
       "    </tr>    <tr> \n",
       "        <th class=\"index_name level0\" >Age Bracket</th> \n",
       "        <th class=\"blank\" ></th> \n",
       "        <th class=\"blank\" ></th> \n",
       "        <th class=\"blank\" ></th> \n",
       "        <th class=\"blank\" ></th> \n",
       "    </tr></thead> \n",
       "<tbody>    <tr> \n",
       "        <th id=\"T_5160b16a_3030_11e9_99c9_542696d54037level0_row0\" class=\"row_heading level0 row0\" ><10</th> \n",
       "        <td id=\"T_5160b16a_3030_11e9_99c9_542696d54037row0_col0\" class=\"data row0 col0\" >23</td> \n",
       "        <td id=\"T_5160b16a_3030_11e9_99c9_542696d54037row0_col1\" class=\"data row0 col1\" >$3.35</td> \n",
       "        <td id=\"T_5160b16a_3030_11e9_99c9_542696d54037row0_col2\" class=\"data row0 col2\" >$77.13</td> \n",
       "        <td id=\"T_5160b16a_3030_11e9_99c9_542696d54037row0_col3\" class=\"data row0 col3\" >$3.35</td> \n",
       "    </tr>    <tr> \n",
       "        <th id=\"T_5160b16a_3030_11e9_99c9_542696d54037level0_row1\" class=\"row_heading level0 row1\" >10-14</th> \n",
       "        <td id=\"T_5160b16a_3030_11e9_99c9_542696d54037row1_col0\" class=\"data row1 col0\" >28</td> \n",
       "        <td id=\"T_5160b16a_3030_11e9_99c9_542696d54037row1_col1\" class=\"data row1 col1\" >$2.96</td> \n",
       "        <td id=\"T_5160b16a_3030_11e9_99c9_542696d54037row1_col2\" class=\"data row1 col2\" >$82.78</td> \n",
       "        <td id=\"T_5160b16a_3030_11e9_99c9_542696d54037row1_col3\" class=\"data row1 col3\" >$2.96</td> \n",
       "    </tr>    <tr> \n",
       "        <th id=\"T_5160b16a_3030_11e9_99c9_542696d54037level0_row2\" class=\"row_heading level0 row2\" >15-19</th> \n",
       "        <td id=\"T_5160b16a_3030_11e9_99c9_542696d54037row2_col0\" class=\"data row2 col0\" >136</td> \n",
       "        <td id=\"T_5160b16a_3030_11e9_99c9_542696d54037row2_col1\" class=\"data row2 col1\" >$3.04</td> \n",
       "        <td id=\"T_5160b16a_3030_11e9_99c9_542696d54037row2_col2\" class=\"data row2 col2\" >$412.89</td> \n",
       "        <td id=\"T_5160b16a_3030_11e9_99c9_542696d54037row2_col3\" class=\"data row2 col3\" >$3.04</td> \n",
       "    </tr>    <tr> \n",
       "        <th id=\"T_5160b16a_3030_11e9_99c9_542696d54037level0_row3\" class=\"row_heading level0 row3\" >20-24</th> \n",
       "        <td id=\"T_5160b16a_3030_11e9_99c9_542696d54037row3_col0\" class=\"data row3 col0\" >365</td> \n",
       "        <td id=\"T_5160b16a_3030_11e9_99c9_542696d54037row3_col1\" class=\"data row3 col1\" >$3.05</td> \n",
       "        <td id=\"T_5160b16a_3030_11e9_99c9_542696d54037row3_col2\" class=\"data row3 col2\" >$1114.06</td> \n",
       "        <td id=\"T_5160b16a_3030_11e9_99c9_542696d54037row3_col3\" class=\"data row3 col3\" >$3.05</td> \n",
       "    </tr>    <tr> \n",
       "        <th id=\"T_5160b16a_3030_11e9_99c9_542696d54037level0_row4\" class=\"row_heading level0 row4\" >25-29</th> \n",
       "        <td id=\"T_5160b16a_3030_11e9_99c9_542696d54037row4_col0\" class=\"data row4 col0\" >101</td> \n",
       "        <td id=\"T_5160b16a_3030_11e9_99c9_542696d54037row4_col1\" class=\"data row4 col1\" >$2.90</td> \n",
       "        <td id=\"T_5160b16a_3030_11e9_99c9_542696d54037row4_col2\" class=\"data row4 col2\" >$293.00</td> \n",
       "        <td id=\"T_5160b16a_3030_11e9_99c9_542696d54037row4_col3\" class=\"data row4 col3\" >$2.90</td> \n",
       "    </tr>    <tr> \n",
       "        <th id=\"T_5160b16a_3030_11e9_99c9_542696d54037level0_row5\" class=\"row_heading level0 row5\" >30-34</th> \n",
       "        <td id=\"T_5160b16a_3030_11e9_99c9_542696d54037row5_col0\" class=\"data row5 col0\" >73</td> \n",
       "        <td id=\"T_5160b16a_3030_11e9_99c9_542696d54037row5_col1\" class=\"data row5 col1\" >$2.93</td> \n",
       "        <td id=\"T_5160b16a_3030_11e9_99c9_542696d54037row5_col2\" class=\"data row5 col2\" >$214.00</td> \n",
       "        <td id=\"T_5160b16a_3030_11e9_99c9_542696d54037row5_col3\" class=\"data row5 col3\" >$2.93</td> \n",
       "    </tr>    <tr> \n",
       "        <th id=\"T_5160b16a_3030_11e9_99c9_542696d54037level0_row6\" class=\"row_heading level0 row6\" >35-39</th> \n",
       "        <td id=\"T_5160b16a_3030_11e9_99c9_542696d54037row6_col0\" class=\"data row6 col0\" >41</td> \n",
       "        <td id=\"T_5160b16a_3030_11e9_99c9_542696d54037row6_col1\" class=\"data row6 col1\" >$3.60</td> \n",
       "        <td id=\"T_5160b16a_3030_11e9_99c9_542696d54037row6_col2\" class=\"data row6 col2\" >$147.67</td> \n",
       "        <td id=\"T_5160b16a_3030_11e9_99c9_542696d54037row6_col3\" class=\"data row6 col3\" >$3.60</td> \n",
       "    </tr>    <tr> \n",
       "        <th id=\"T_5160b16a_3030_11e9_99c9_542696d54037level0_row7\" class=\"row_heading level0 row7\" >40+</th> \n",
       "        <td id=\"T_5160b16a_3030_11e9_99c9_542696d54037row7_col0\" class=\"data row7 col0\" >13</td> \n",
       "        <td id=\"T_5160b16a_3030_11e9_99c9_542696d54037row7_col1\" class=\"data row7 col1\" >$2.94</td> \n",
       "        <td id=\"T_5160b16a_3030_11e9_99c9_542696d54037row7_col2\" class=\"data row7 col2\" >$38.24</td> \n",
       "        <td id=\"T_5160b16a_3030_11e9_99c9_542696d54037row7_col3\" class=\"data row7 col3\" >$2.94</td> \n",
       "    </tr></tbody> \n",
       "</table> "
      ],
      "text/plain": [
       "<pandas.io.formats.style.Styler at 0x119c185c0>"
      ]
     },
     "execution_count": 19,
     "metadata": {},
     "output_type": "execute_result"
    }
   ],
   "source": [
    "# Count purchases by age bracket\n",
    "purchase_count_age = age_bracket[\"Purchase ID\"].count()\n",
    "\n",
    "# Get average purchase price by age bracket\n",
    "avg_purchase_price_age = age_bracket[\"Price\"].mean()\n",
    "\n",
    "# Get total purchase value by age bracket \n",
    "total_purchase_value_age = age_bracket[\"Price\"].sum()\n",
    "\n",
    "# Get the average purchase per person in the age bracket\n",
    "avg_purchase_pp_age = total_purchase_value_age/purchase_count_age\n",
    "\n",
    "# Create dataframe with stats by age dmeographics \n",
    "age_demographics = pd.DataFrame({\"Purchase Count\": purchase_count_age,\n",
    "                                 \"Average Purchase Price\": avg_purchase_price_age,\n",
    "                                 \"Total Purchase Value\":total_purchase_value_age,\n",
    "                                 \"Average Total Purchase Per Person\": avg_purchase_pp_age})\n",
    "\n",
    "\n",
    "# Format the columns with dollars \n",
    "age_demographics.style.format({\"Average Purchase Price\":\"${:.2f}\",\n",
    "                        \"Total Purchase Value\":\"${:.2f}\",\n",
    "                        \"Average Total Purchase Per Person\":\"${:.2f}\"})"
   ]
  },
  {
   "cell_type": "code",
   "execution_count": 7,
   "metadata": {},
   "outputs": [
    {
     "data": {
      "text/html": [
       "<div>\n",
       "<table border=\"1\" class=\"dataframe\">\n",
       "  <thead>\n",
       "    <tr style=\"text-align: right;\">\n",
       "      <th></th>\n",
       "      <th>Purchase Count</th>\n",
       "      <th>Average Purchase Price</th>\n",
       "      <th>Total Purchase Value</th>\n",
       "      <th>Normalized Totals</th>\n",
       "    </tr>\n",
       "  </thead>\n",
       "  <tbody>\n",
       "    <tr>\n",
       "      <th>10-14</th>\n",
       "      <td>28</td>\n",
       "      <td>$2.96</td>\n",
       "      <td>$82.78</td>\n",
       "      <td>$2.96</td>\n",
       "    </tr>\n",
       "    <tr>\n",
       "      <th>15-19</th>\n",
       "      <td>136</td>\n",
       "      <td>$3.04</td>\n",
       "      <td>$412.89</td>\n",
       "      <td>$3.04</td>\n",
       "    </tr>\n",
       "    <tr>\n",
       "      <th>20-24</th>\n",
       "      <td>365</td>\n",
       "      <td>$3.05</td>\n",
       "      <td>$1,114.06</td>\n",
       "      <td>$3.05</td>\n",
       "    </tr>\n",
       "    <tr>\n",
       "      <th>25-29</th>\n",
       "      <td>101</td>\n",
       "      <td>$2.90</td>\n",
       "      <td>$293.00</td>\n",
       "      <td>$2.90</td>\n",
       "    </tr>\n",
       "    <tr>\n",
       "      <th>30-34</th>\n",
       "      <td>73</td>\n",
       "      <td>$2.93</td>\n",
       "      <td>$214.00</td>\n",
       "      <td>$2.93</td>\n",
       "    </tr>\n",
       "    <tr>\n",
       "      <th>35-39</th>\n",
       "      <td>41</td>\n",
       "      <td>$3.60</td>\n",
       "      <td>$147.67</td>\n",
       "      <td>$3.60</td>\n",
       "    </tr>\n",
       "    <tr>\n",
       "      <th>40+</th>\n",
       "      <td>13</td>\n",
       "      <td>$2.94</td>\n",
       "      <td>$38.24</td>\n",
       "      <td>$2.94</td>\n",
       "    </tr>\n",
       "    <tr>\n",
       "      <th>&lt;10</th>\n",
       "      <td>23</td>\n",
       "      <td>$3.35</td>\n",
       "      <td>$77.13</td>\n",
       "      <td>$3.35</td>\n",
       "    </tr>\n",
       "  </tbody>\n",
       "</table>\n",
       "</div>"
      ],
      "text/plain": [
       "      Purchase Count Average Purchase Price Total Purchase Value  \\\n",
       "10-14             28                  $2.96               $82.78   \n",
       "15-19            136                  $3.04              $412.89   \n",
       "20-24            365                  $3.05            $1,114.06   \n",
       "25-29            101                  $2.90              $293.00   \n",
       "30-34             73                  $2.93              $214.00   \n",
       "35-39             41                  $3.60              $147.67   \n",
       "40+               13                  $2.94               $38.24   \n",
       "<10               23                  $3.35               $77.13   \n",
       "\n",
       "      Normalized Totals  \n",
       "10-14             $2.96  \n",
       "15-19             $3.04  \n",
       "20-24             $3.05  \n",
       "25-29             $2.90  \n",
       "30-34             $2.93  \n",
       "35-39             $3.60  \n",
       "40+               $2.94  \n",
       "<10               $3.35  "
      ]
     },
     "execution_count": 7,
     "metadata": {},
     "output_type": "execute_result"
    }
   ],
   "source": []
  },
  {
   "cell_type": "markdown",
   "metadata": {},
   "source": [
    "## Top Spenders"
   ]
  },
  {
   "cell_type": "markdown",
   "metadata": {},
   "source": [
    "* Run basic calculations to obtain the results in the table below\n",
    "\n",
    "\n",
    "* Create a summary data frame to hold the results\n",
    "\n",
    "\n",
    "* Sort the total purchase value column in descending order\n",
    "\n",
    "\n",
    "* Optional: give the displayed data cleaner formatting\n",
    "\n",
    "\n",
    "* Display a preview of the summary data frame\n",
    "\n"
   ]
  },
  {
   "cell_type": "code",
   "execution_count": 32,
   "metadata": {},
   "outputs": [
    {
     "data": {
      "text/html": [
       "<style  type=\"text/css\" >\n",
       "</style>  \n",
       "<table id=\"T_ec4b09f8_3032_11e9_99c9_542696d54037\" > \n",
       "<thead>    <tr> \n",
       "        <th class=\"blank level0\" ></th> \n",
       "        <th class=\"col_heading level0 col0\" >Purchase Count</th> \n",
       "        <th class=\"col_heading level0 col1\" >Average Purchase Price</th> \n",
       "        <th class=\"col_heading level0 col2\" >Total Purchase Value</th> \n",
       "    </tr>    <tr> \n",
       "        <th class=\"index_name level0\" >SN</th> \n",
       "        <th class=\"blank\" ></th> \n",
       "        <th class=\"blank\" ></th> \n",
       "        <th class=\"blank\" ></th> \n",
       "    </tr></thead> \n",
       "<tbody>    <tr> \n",
       "        <th id=\"T_ec4b09f8_3032_11e9_99c9_542696d54037level0_row0\" class=\"row_heading level0 row0\" >Lisosia93</th> \n",
       "        <td id=\"T_ec4b09f8_3032_11e9_99c9_542696d54037row0_col0\" class=\"data row0 col0\" >5</td> \n",
       "        <td id=\"T_ec4b09f8_3032_11e9_99c9_542696d54037row0_col1\" class=\"data row0 col1\" >$3.79</td> \n",
       "        <td id=\"T_ec4b09f8_3032_11e9_99c9_542696d54037row0_col2\" class=\"data row0 col2\" >$18.96</td> \n",
       "    </tr>    <tr> \n",
       "        <th id=\"T_ec4b09f8_3032_11e9_99c9_542696d54037level0_row1\" class=\"row_heading level0 row1\" >Idastidru52</th> \n",
       "        <td id=\"T_ec4b09f8_3032_11e9_99c9_542696d54037row1_col0\" class=\"data row1 col0\" >4</td> \n",
       "        <td id=\"T_ec4b09f8_3032_11e9_99c9_542696d54037row1_col1\" class=\"data row1 col1\" >$3.86</td> \n",
       "        <td id=\"T_ec4b09f8_3032_11e9_99c9_542696d54037row1_col2\" class=\"data row1 col2\" >$15.45</td> \n",
       "    </tr>    <tr> \n",
       "        <th id=\"T_ec4b09f8_3032_11e9_99c9_542696d54037level0_row2\" class=\"row_heading level0 row2\" >Chamjask73</th> \n",
       "        <td id=\"T_ec4b09f8_3032_11e9_99c9_542696d54037row2_col0\" class=\"data row2 col0\" >3</td> \n",
       "        <td id=\"T_ec4b09f8_3032_11e9_99c9_542696d54037row2_col1\" class=\"data row2 col1\" >$4.61</td> \n",
       "        <td id=\"T_ec4b09f8_3032_11e9_99c9_542696d54037row2_col2\" class=\"data row2 col2\" >$13.83</td> \n",
       "    </tr>    <tr> \n",
       "        <th id=\"T_ec4b09f8_3032_11e9_99c9_542696d54037level0_row3\" class=\"row_heading level0 row3\" >Iral74</th> \n",
       "        <td id=\"T_ec4b09f8_3032_11e9_99c9_542696d54037row3_col0\" class=\"data row3 col0\" >4</td> \n",
       "        <td id=\"T_ec4b09f8_3032_11e9_99c9_542696d54037row3_col1\" class=\"data row3 col1\" >$3.40</td> \n",
       "        <td id=\"T_ec4b09f8_3032_11e9_99c9_542696d54037row3_col2\" class=\"data row3 col2\" >$13.62</td> \n",
       "    </tr>    <tr> \n",
       "        <th id=\"T_ec4b09f8_3032_11e9_99c9_542696d54037level0_row4\" class=\"row_heading level0 row4\" >Iskadarya95</th> \n",
       "        <td id=\"T_ec4b09f8_3032_11e9_99c9_542696d54037row4_col0\" class=\"data row4 col0\" >3</td> \n",
       "        <td id=\"T_ec4b09f8_3032_11e9_99c9_542696d54037row4_col1\" class=\"data row4 col1\" >$4.37</td> \n",
       "        <td id=\"T_ec4b09f8_3032_11e9_99c9_542696d54037row4_col2\" class=\"data row4 col2\" >$13.10</td> \n",
       "    </tr></tbody> \n",
       "</table> "
      ],
      "text/plain": [
       "<pandas.io.formats.style.Styler at 0x119caf240>"
      ]
     },
     "execution_count": 32,
     "metadata": {},
     "output_type": "execute_result"
    }
   ],
   "source": [
    "# Create a groupby object using the age bins \n",
    "top_spender = purchase_data.groupby(\"SN\")\n",
    "\n",
    "# Count purchases of top spenders\n",
    "purchase_count_sn = top_spender[\"Purchase ID\"].count()\n",
    "\n",
    "# Get average purchase price for top spenders\n",
    "avg_purchase_price_sn = top_spender[\"Price\"].mean()\n",
    "\n",
    "# Get total purchase value by age bracket \n",
    "total_purchase_value_sn = top_spender[\"Price\"].sum()\n",
    "\n",
    "\n",
    "# Create dataframe with stats about top spenders\n",
    "top_spenders = pd.DataFrame({\"Purchase Count\": purchase_count_sn,\n",
    "                             \"Average Purchase Price\": avg_purchase_price_sn,\n",
    "                             \"Total Purchase Value\":total_purchase_value_sn})\n",
    "\n",
    "# Format the values in descending order from column, Total Purchase Value \n",
    "big_spenders = top_spenders.sort_values([\"Total Purchase Value\"],ascending=False).head()\n",
    "\n",
    "# Format the columns with dollars \n",
    "big_spenders.head().style.format({\"Average Purchase Price\":\"${:.2f}\",\n",
    "                                  \"Total Purchase Value\":\"${:.2f}\"})"
   ]
  },
  {
   "cell_type": "code",
   "execution_count": 8,
   "metadata": {},
   "outputs": [
    {
     "data": {
      "text/html": [
       "<div>\n",
       "<table border=\"1\" class=\"dataframe\">\n",
       "  <thead>\n",
       "    <tr style=\"text-align: right;\">\n",
       "      <th></th>\n",
       "      <th>Purchase Count</th>\n",
       "      <th>Average Purchase Price</th>\n",
       "      <th>Total Purchase Value</th>\n",
       "    </tr>\n",
       "    <tr>\n",
       "      <th>SN</th>\n",
       "      <th></th>\n",
       "      <th></th>\n",
       "      <th></th>\n",
       "    </tr>\n",
       "  </thead>\n",
       "  <tbody>\n",
       "    <tr>\n",
       "      <th>Lisosia93</th>\n",
       "      <td>5</td>\n",
       "      <td>$3.79</td>\n",
       "      <td>$18.96</td>\n",
       "    </tr>\n",
       "    <tr>\n",
       "      <th>Idastidru52</th>\n",
       "      <td>4</td>\n",
       "      <td>$3.86</td>\n",
       "      <td>$15.45</td>\n",
       "    </tr>\n",
       "    <tr>\n",
       "      <th>Chamjask73</th>\n",
       "      <td>3</td>\n",
       "      <td>$4.61</td>\n",
       "      <td>$13.83</td>\n",
       "    </tr>\n",
       "    <tr>\n",
       "      <th>Iral74</th>\n",
       "      <td>4</td>\n",
       "      <td>$3.40</td>\n",
       "      <td>$13.62</td>\n",
       "    </tr>\n",
       "    <tr>\n",
       "      <th>Iskadarya95</th>\n",
       "      <td>3</td>\n",
       "      <td>$4.37</td>\n",
       "      <td>$13.10</td>\n",
       "    </tr>\n",
       "  </tbody>\n",
       "</table>\n",
       "</div>"
      ],
      "text/plain": [
       "             Purchase Count Average Purchase Price Total Purchase Value\n",
       "SN                                                                     \n",
       "Lisosia93                 5                  $3.79               $18.96\n",
       "Idastidru52               4                  $3.86               $15.45\n",
       "Chamjask73                3                  $4.61               $13.83\n",
       "Iral74                    4                  $3.40               $13.62\n",
       "Iskadarya95               3                  $4.37               $13.10"
      ]
     },
     "execution_count": 8,
     "metadata": {},
     "output_type": "execute_result"
    }
   ],
   "source": []
  },
  {
   "cell_type": "markdown",
   "metadata": {},
   "source": [
    "## Most Popular Items"
   ]
  },
  {
   "cell_type": "markdown",
   "metadata": {},
   "source": [
    "* Retrieve the Item ID, Item Name, and Item Price columns\n",
    "\n",
    "\n",
    "* Group by Item ID and Item Name. Perform calculations to obtain purchase count, item price, and total purchase value\n",
    "\n",
    "\n",
    "* Create a summary data frame to hold the results\n",
    "\n",
    "\n",
    "* Sort the purchase count column in descending order\n",
    "\n",
    "\n",
    "* Optional: give the displayed data cleaner formatting\n",
    "\n",
    "\n",
    "* Display a preview of the summary data frame\n",
    "\n"
   ]
  },
  {
   "cell_type": "code",
   "execution_count": 54,
   "metadata": {},
   "outputs": [
    {
     "data": {
      "text/html": [
       "<style  type=\"text/css\" >\n",
       "</style>  \n",
       "<table id=\"T_0b729f32_3036_11e9_99c9_542696d54037\" > \n",
       "<thead>    <tr> \n",
       "        <th class=\"blank\" ></th> \n",
       "        <th class=\"blank level0\" ></th> \n",
       "        <th class=\"col_heading level0 col0\" >Purchase Count</th> \n",
       "        <th class=\"col_heading level0 col1\" >Item Price</th> \n",
       "        <th class=\"col_heading level0 col2\" >Total Purchase Value</th> \n",
       "    </tr>    <tr> \n",
       "        <th class=\"index_name level0\" >Item ID</th> \n",
       "        <th class=\"index_name level1\" >Item Name</th> \n",
       "        <th class=\"blank\" ></th> \n",
       "        <th class=\"blank\" ></th> \n",
       "        <th class=\"blank\" ></th> \n",
       "    </tr></thead> \n",
       "<tbody>    <tr> \n",
       "        <th id=\"T_0b729f32_3036_11e9_99c9_542696d54037level0_row0\" class=\"row_heading level0 row0\" >178</th> \n",
       "        <th id=\"T_0b729f32_3036_11e9_99c9_542696d54037level1_row0\" class=\"row_heading level1 row0\" >Oathbreaker, Last Hope of the Breaking Storm</th> \n",
       "        <td id=\"T_0b729f32_3036_11e9_99c9_542696d54037row0_col0\" class=\"data row0 col0\" >12</td> \n",
       "        <td id=\"T_0b729f32_3036_11e9_99c9_542696d54037row0_col1\" class=\"data row0 col1\" >$4.23</td> \n",
       "        <td id=\"T_0b729f32_3036_11e9_99c9_542696d54037row0_col2\" class=\"data row0 col2\" >$50.76</td> \n",
       "    </tr>    <tr> \n",
       "        <th id=\"T_0b729f32_3036_11e9_99c9_542696d54037level0_row1\" class=\"row_heading level0 row1\" >145</th> \n",
       "        <th id=\"T_0b729f32_3036_11e9_99c9_542696d54037level1_row1\" class=\"row_heading level1 row1\" >Fiery Glass Crusader</th> \n",
       "        <td id=\"T_0b729f32_3036_11e9_99c9_542696d54037row1_col0\" class=\"data row1 col0\" >9</td> \n",
       "        <td id=\"T_0b729f32_3036_11e9_99c9_542696d54037row1_col1\" class=\"data row1 col1\" >$4.58</td> \n",
       "        <td id=\"T_0b729f32_3036_11e9_99c9_542696d54037row1_col2\" class=\"data row1 col2\" >$41.22</td> \n",
       "    </tr>    <tr> \n",
       "        <th id=\"T_0b729f32_3036_11e9_99c9_542696d54037level0_row2\" class=\"row_heading level0 row2\" >108</th> \n",
       "        <th id=\"T_0b729f32_3036_11e9_99c9_542696d54037level1_row2\" class=\"row_heading level1 row2\" >Extraction, Quickblade Of Trembling Hands</th> \n",
       "        <td id=\"T_0b729f32_3036_11e9_99c9_542696d54037row2_col0\" class=\"data row2 col0\" >9</td> \n",
       "        <td id=\"T_0b729f32_3036_11e9_99c9_542696d54037row2_col1\" class=\"data row2 col1\" >$3.53</td> \n",
       "        <td id=\"T_0b729f32_3036_11e9_99c9_542696d54037row2_col2\" class=\"data row2 col2\" >$31.77</td> \n",
       "    </tr>    <tr> \n",
       "        <th id=\"T_0b729f32_3036_11e9_99c9_542696d54037level0_row3\" class=\"row_heading level0 row3\" >82</th> \n",
       "        <th id=\"T_0b729f32_3036_11e9_99c9_542696d54037level1_row3\" class=\"row_heading level1 row3\" >Nirvana</th> \n",
       "        <td id=\"T_0b729f32_3036_11e9_99c9_542696d54037row3_col0\" class=\"data row3 col0\" >9</td> \n",
       "        <td id=\"T_0b729f32_3036_11e9_99c9_542696d54037row3_col1\" class=\"data row3 col1\" >$4.90</td> \n",
       "        <td id=\"T_0b729f32_3036_11e9_99c9_542696d54037row3_col2\" class=\"data row3 col2\" >$44.10</td> \n",
       "    </tr>    <tr> \n",
       "        <th id=\"T_0b729f32_3036_11e9_99c9_542696d54037level0_row4\" class=\"row_heading level0 row4\" >19</th> \n",
       "        <th id=\"T_0b729f32_3036_11e9_99c9_542696d54037level1_row4\" class=\"row_heading level1 row4\" >Pursuit, Cudgel of Necromancy</th> \n",
       "        <td id=\"T_0b729f32_3036_11e9_99c9_542696d54037row4_col0\" class=\"data row4 col0\" >8</td> \n",
       "        <td id=\"T_0b729f32_3036_11e9_99c9_542696d54037row4_col1\" class=\"data row4 col1\" >$1.02</td> \n",
       "        <td id=\"T_0b729f32_3036_11e9_99c9_542696d54037row4_col2\" class=\"data row4 col2\" >$8.16</td> \n",
       "    </tr></tbody> \n",
       "</table> "
      ],
      "text/plain": [
       "<pandas.io.formats.style.Styler at 0x119db8e48>"
      ]
     },
     "execution_count": 54,
     "metadata": {},
     "output_type": "execute_result"
    }
   ],
   "source": [
    "# Retrieve the Item ID, Item Name, and Item Price columns\n",
    "popular = purchase_data[[\"Item ID\", \"Item Name\", \"Price\"]]\n",
    "\n",
    "# Group by by Item ID and Item Name.\n",
    "popular_items = popular.groupby([\"Item ID\", \"Item Name\"])\n",
    "\n",
    "# Count purchases for popular items\n",
    "purchase_count_item = popular_items[\"Item ID\"].count()\n",
    "\n",
    "# Get price of popular item\n",
    "price_item = popular_items[\"Price\"].mean()\n",
    "\n",
    "# Get total purchase value by item\n",
    "total_purchase_value = popular_items[\"Price\"].sum()\n",
    "\n",
    "\n",
    "# Create initial dataframe to summarize stats for popular items\n",
    "popularity = pd.DataFrame({\"Purchase Count\": purchase_count_item,\n",
    "                          \"Item Price\": price_item,\n",
    "                          \"Total Purchase Value\":total_purchase_value})\n",
    "\n",
    "# Format the values in descending order from purchase count\n",
    "popular_spend = popularity.sort_values([\"Purchase Count\"],ascending=False).head()\n",
    "\n",
    "\n",
    "#Format colums with dollars\n",
    "popular_spend.head().style.format({\"Item Price\":\"${:.2f}\",\n",
    "                                   \"Total Purchase Value\":\"${:.2f}\"})"
   ]
  },
  {
   "cell_type": "code",
   "execution_count": null,
   "metadata": {},
   "outputs": [],
   "source": []
  },
  {
   "cell_type": "markdown",
   "metadata": {},
   "source": [
    "## Most Profitable Items"
   ]
  },
  {
   "cell_type": "markdown",
   "metadata": {},
   "source": [
    "* Sort the above table by total purchase value in descending order\n",
    "\n",
    "\n",
    "* Optional: give the displayed data cleaner formatting\n",
    "\n",
    "\n",
    "* Display a preview of the data frame\n",
    "\n"
   ]
  },
  {
   "cell_type": "code",
   "execution_count": 56,
   "metadata": {},
   "outputs": [
    {
     "data": {
      "text/html": [
       "<style  type=\"text/css\" >\n",
       "</style>  \n",
       "<table id=\"T_f7876b96_3036_11e9_99c9_542696d54037\" > \n",
       "<thead>    <tr> \n",
       "        <th class=\"blank\" ></th> \n",
       "        <th class=\"blank level0\" ></th> \n",
       "        <th class=\"col_heading level0 col0\" >Purchase Count</th> \n",
       "        <th class=\"col_heading level0 col1\" >Item Price</th> \n",
       "        <th class=\"col_heading level0 col2\" >Total Purchase Value</th> \n",
       "    </tr>    <tr> \n",
       "        <th class=\"index_name level0\" >Item ID</th> \n",
       "        <th class=\"index_name level1\" >Item Name</th> \n",
       "        <th class=\"blank\" ></th> \n",
       "        <th class=\"blank\" ></th> \n",
       "        <th class=\"blank\" ></th> \n",
       "    </tr></thead> \n",
       "<tbody>    <tr> \n",
       "        <th id=\"T_f7876b96_3036_11e9_99c9_542696d54037level0_row0\" class=\"row_heading level0 row0\" >178</th> \n",
       "        <th id=\"T_f7876b96_3036_11e9_99c9_542696d54037level1_row0\" class=\"row_heading level1 row0\" >Oathbreaker, Last Hope of the Breaking Storm</th> \n",
       "        <td id=\"T_f7876b96_3036_11e9_99c9_542696d54037row0_col0\" class=\"data row0 col0\" >12</td> \n",
       "        <td id=\"T_f7876b96_3036_11e9_99c9_542696d54037row0_col1\" class=\"data row0 col1\" >$4.23</td> \n",
       "        <td id=\"T_f7876b96_3036_11e9_99c9_542696d54037row0_col2\" class=\"data row0 col2\" >$50.76</td> \n",
       "    </tr>    <tr> \n",
       "        <th id=\"T_f7876b96_3036_11e9_99c9_542696d54037level0_row1\" class=\"row_heading level0 row1\" >82</th> \n",
       "        <th id=\"T_f7876b96_3036_11e9_99c9_542696d54037level1_row1\" class=\"row_heading level1 row1\" >Nirvana</th> \n",
       "        <td id=\"T_f7876b96_3036_11e9_99c9_542696d54037row1_col0\" class=\"data row1 col0\" >9</td> \n",
       "        <td id=\"T_f7876b96_3036_11e9_99c9_542696d54037row1_col1\" class=\"data row1 col1\" >$4.90</td> \n",
       "        <td id=\"T_f7876b96_3036_11e9_99c9_542696d54037row1_col2\" class=\"data row1 col2\" >$44.10</td> \n",
       "    </tr>    <tr> \n",
       "        <th id=\"T_f7876b96_3036_11e9_99c9_542696d54037level0_row2\" class=\"row_heading level0 row2\" >145</th> \n",
       "        <th id=\"T_f7876b96_3036_11e9_99c9_542696d54037level1_row2\" class=\"row_heading level1 row2\" >Fiery Glass Crusader</th> \n",
       "        <td id=\"T_f7876b96_3036_11e9_99c9_542696d54037row2_col0\" class=\"data row2 col0\" >9</td> \n",
       "        <td id=\"T_f7876b96_3036_11e9_99c9_542696d54037row2_col1\" class=\"data row2 col1\" >$4.58</td> \n",
       "        <td id=\"T_f7876b96_3036_11e9_99c9_542696d54037row2_col2\" class=\"data row2 col2\" >$41.22</td> \n",
       "    </tr>    <tr> \n",
       "        <th id=\"T_f7876b96_3036_11e9_99c9_542696d54037level0_row3\" class=\"row_heading level0 row3\" >92</th> \n",
       "        <th id=\"T_f7876b96_3036_11e9_99c9_542696d54037level1_row3\" class=\"row_heading level1 row3\" >Final Critic</th> \n",
       "        <td id=\"T_f7876b96_3036_11e9_99c9_542696d54037row3_col0\" class=\"data row3 col0\" >8</td> \n",
       "        <td id=\"T_f7876b96_3036_11e9_99c9_542696d54037row3_col1\" class=\"data row3 col1\" >$4.88</td> \n",
       "        <td id=\"T_f7876b96_3036_11e9_99c9_542696d54037row3_col2\" class=\"data row3 col2\" >$39.04</td> \n",
       "    </tr>    <tr> \n",
       "        <th id=\"T_f7876b96_3036_11e9_99c9_542696d54037level0_row4\" class=\"row_heading level0 row4\" >103</th> \n",
       "        <th id=\"T_f7876b96_3036_11e9_99c9_542696d54037level1_row4\" class=\"row_heading level1 row4\" >Singed Scalpel</th> \n",
       "        <td id=\"T_f7876b96_3036_11e9_99c9_542696d54037row4_col0\" class=\"data row4 col0\" >8</td> \n",
       "        <td id=\"T_f7876b96_3036_11e9_99c9_542696d54037row4_col1\" class=\"data row4 col1\" >$4.35</td> \n",
       "        <td id=\"T_f7876b96_3036_11e9_99c9_542696d54037row4_col2\" class=\"data row4 col2\" >$34.80</td> \n",
       "    </tr></tbody> \n",
       "</table> "
      ],
      "text/plain": [
       "<pandas.io.formats.style.Styler at 0x119caf2b0>"
      ]
     },
     "execution_count": 56,
     "metadata": {},
     "output_type": "execute_result"
    }
   ],
   "source": [
    "#Format the values in descending order from total purchase value\n",
    "popular_spend = popularity.sort_values([\"Total Purchase Value\"],ascending=False).head()\n",
    "\n",
    "#Format columns with dollars\n",
    "popular_spend.head().style.format({\"Item Price\":\"${:.2f}\",\n",
    "                                   \"Total Purchase Value\":\"${:.2f}\"})"
   ]
  },
  {
   "cell_type": "code",
   "execution_count": 10,
   "metadata": {
    "scrolled": true
   },
   "outputs": [
    {
     "data": {
      "text/html": [
       "<div>\n",
       "<table border=\"1\" class=\"dataframe\">\n",
       "  <thead>\n",
       "    <tr style=\"text-align: right;\">\n",
       "      <th></th>\n",
       "      <th></th>\n",
       "      <th>Purchase Count</th>\n",
       "      <th>Item Price</th>\n",
       "      <th>Total Purchase Value</th>\n",
       "    </tr>\n",
       "    <tr>\n",
       "      <th>Item ID</th>\n",
       "      <th>Item Name</th>\n",
       "      <th></th>\n",
       "      <th></th>\n",
       "      <th></th>\n",
       "    </tr>\n",
       "  </thead>\n",
       "  <tbody>\n",
       "    <tr>\n",
       "      <th>178</th>\n",
       "      <th>Oathbreaker, Last Hope of the Breaking Storm</th>\n",
       "      <td>12</td>\n",
       "      <td>$4.23</td>\n",
       "      <td>$50.76</td>\n",
       "    </tr>\n",
       "    <tr>\n",
       "      <th>82</th>\n",
       "      <th>Nirvana</th>\n",
       "      <td>9</td>\n",
       "      <td>$4.90</td>\n",
       "      <td>$44.10</td>\n",
       "    </tr>\n",
       "    <tr>\n",
       "      <th>145</th>\n",
       "      <th>Fiery Glass Crusader</th>\n",
       "      <td>9</td>\n",
       "      <td>$4.58</td>\n",
       "      <td>$41.22</td>\n",
       "    </tr>\n",
       "    <tr>\n",
       "      <th>92</th>\n",
       "      <th>Final Critic</th>\n",
       "      <td>8</td>\n",
       "      <td>$4.88</td>\n",
       "      <td>$39.04</td>\n",
       "    </tr>\n",
       "    <tr>\n",
       "      <th>103</th>\n",
       "      <th>Singed Scalpel</th>\n",
       "      <td>8</td>\n",
       "      <td>$4.35</td>\n",
       "      <td>$34.80</td>\n",
       "    </tr>\n",
       "  </tbody>\n",
       "</table>\n",
       "</div>"
      ],
      "text/plain": [
       "                                                     Purchase Count  \\\n",
       "Item ID Item Name                                                     \n",
       "178     Oathbreaker, Last Hope of the Breaking Storm             12   \n",
       "82      Nirvana                                                   9   \n",
       "145     Fiery Glass Crusader                                      9   \n",
       "92      Final Critic                                              8   \n",
       "103     Singed Scalpel                                            8   \n",
       "\n",
       "                                                     Item Price  \\\n",
       "Item ID Item Name                                                 \n",
       "178     Oathbreaker, Last Hope of the Breaking Storm      $4.23   \n",
       "82      Nirvana                                           $4.90   \n",
       "145     Fiery Glass Crusader                              $4.58   \n",
       "92      Final Critic                                      $4.88   \n",
       "103     Singed Scalpel                                    $4.35   \n",
       "\n",
       "                                                     Total Purchase Value  \n",
       "Item ID Item Name                                                          \n",
       "178     Oathbreaker, Last Hope of the Breaking Storm               $50.76  \n",
       "82      Nirvana                                                    $44.10  \n",
       "145     Fiery Glass Crusader                                       $41.22  \n",
       "92      Final Critic                                               $39.04  \n",
       "103     Singed Scalpel                                             $34.80  "
      ]
     },
     "execution_count": 10,
     "metadata": {},
     "output_type": "execute_result"
    }
   ],
   "source": []
  },
  {
   "cell_type": "code",
   "execution_count": null,
   "metadata": {},
   "outputs": [],
   "source": []
  }
 ],
 "metadata": {
  "anaconda-cloud": {},
  "kernel_info": {
   "name": "python3"
  },
  "kernelspec": {
   "display_name": "Python 3",
   "language": "python",
   "name": "python3"
  },
  "language_info": {
   "codemirror_mode": {
    "name": "ipython",
    "version": 3
   },
   "file_extension": ".py",
   "mimetype": "text/x-python",
   "name": "python",
   "nbconvert_exporter": "python",
   "pygments_lexer": "ipython3",
   "version": "3.7.1"
  },
  "nteract": {
   "version": "0.8.4"
  }
 },
 "nbformat": 4,
 "nbformat_minor": 1
}
